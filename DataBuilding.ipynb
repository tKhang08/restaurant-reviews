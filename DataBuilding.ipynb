{
  "cells": [
    {
      "cell_type": "markdown",
      "metadata": {
        "id": "QATO0sHP6kCp"
      },
      "source": [
        "# Tải spark và thiết lập môi trường"
      ]
    },
    {
      "cell_type": "code",
      "source": [
        "from google.colab import drive\n",
        "drive.mount('/content/drive')\n"
      ],
      "metadata": {
        "id": "uH0fx88iKw3P",
        "colab": {
          "base_uri": "https://localhost:8080/"
        },
        "outputId": "c4bf6475-e484-4658-feb2-c0964b0948dc"
      },
      "execution_count": null,
      "outputs": [
        {
          "output_type": "stream",
          "name": "stdout",
          "text": [
            "Mounted at /content/drive\n"
          ]
        }
      ]
    },
    {
      "cell_type": "code",
      "source": [
        "!apt-get install openjdk-8-jdk-headless -qq > /dev/null"
      ],
      "metadata": {
        "id": "HZyI8Ei2e7FF"
      },
      "execution_count": null,
      "outputs": []
    },
    {
      "cell_type": "code",
      "source": [
        "!tar xf spark-3.4.1-bin-hadoop3.tgz\n"
      ],
      "metadata": {
        "id": "MU2l0uUne_J1"
      },
      "execution_count": null,
      "outputs": []
    },
    {
      "cell_type": "code",
      "source": [
        "!pip install -q findspark"
      ],
      "metadata": {
        "id": "mCba1BetqXqY"
      },
      "execution_count": null,
      "outputs": []
    },
    {
      "cell_type": "code",
      "execution_count": null,
      "metadata": {
        "id": "TJQxvTKLw-I5"
      },
      "outputs": [],
      "source": [
        "# Thiết lập biến môi trường\n",
        "import os\n",
        "os.environ[\"JAVA_HOME\"] = \"/usr/lib/jvm/java-11-openjdk-amd64\"\n",
        "os.environ[\"SPARK_HOME\"] = \"/content/spark-3.4.1-bin-hadoop3\""
      ]
    },
    {
      "cell_type": "code",
      "execution_count": null,
      "metadata": {
        "id": "G6ogTcsmxA62"
      },
      "outputs": [],
      "source": [
        "import findspark\n",
        "findspark.init(\"/content/spark-3.4.1-bin-hadoop3\")"
      ]
    },
    {
      "cell_type": "markdown",
      "source": [
        "# Khởi tạo và đọc cấu trúc dữ liệu Join nó vào"
      ],
      "metadata": {
        "id": "4zOYrwKa9a_k"
      }
    },
    {
      "cell_type": "code",
      "execution_count": null,
      "metadata": {
        "id": "xi1lS3rmyxGA"
      },
      "outputs": [],
      "source": [
        "from pyspark.sql import SparkSession\n",
        "spark = SparkSession.builder \\\n",
        "    .appName(\"RestaurantReview\") \\\n",
        "    .getOrCreate()"
      ]
    },
    {
      "cell_type": "code",
      "execution_count": null,
      "metadata": {
        "colab": {
          "base_uri": "https://localhost:8080/"
        },
        "id": "VVrj17uGy8J0",
        "outputId": "fbb9a18e-6bf3-44c1-d451-5b602caf2a6f"
      },
      "outputs": [
        {
          "output_type": "stream",
          "name": "stdout",
          "text": [
            "root\n",
            " |-- review_id: integer (nullable = true)\n",
            " |-- user_id: integer (nullable = true)\n",
            " |-- rating: integer (nullable = true)\n",
            " |-- review_text: string (nullable = true)\n",
            " |-- review_date: date (nullable = true)\n",
            " |-- restaurant_id: integer (nullable = true)\n",
            "\n",
            "root\n",
            " |-- restaurant_id: double (nullable = true)\n",
            " |-- restaurant_name: string (nullable = true)\n",
            " |-- street: string (nullable = true)\n",
            " |-- ward: string (nullable = true)\n",
            " |-- district: string (nullable = true)\n",
            " |-- city: string (nullable = true)\n",
            "\n",
            "root\n",
            " |-- review_id: integer (nullable = true)\n",
            " |-- restaurant_id: integer (nullable = true)\n",
            " |-- user_id: integer (nullable = true)\n",
            " |-- review_text: string (nullable = true)\n",
            " |-- food_quality: integer (nullable = true)\n",
            " |-- service_quality: integer (nullable = true)\n",
            " |-- ambiance_quality: integer (nullable = true)\n",
            "\n"
          ]
        }
      ],
      "source": [
        "review_sentiment = spark.read.csv(\"/content/drive/MyDrive/Big_Data/Tiểu luận/model/file-csv/phan-tich-cam-xuc.csv\", header=True, inferSchema=True)  # Phân tích cảm xúc\n",
        "restaurant_info = spark.read.csv(\"/content/drive/MyDrive/Big_Data/Tiểu luận/model/file-csv/restaurant_review.csv\", header=True, inferSchema=True)  # Thông tin nhà hàng\n",
        "restaurant_ratings = spark.read.csv(\"/content/drive/MyDrive/Big_Data/Tiểu luận/model/file-csv/tinhdiemnhahang.csv\", header=True, inferSchema=True)  # Rating nhà hàng\n",
        "\n",
        "# Kiểm tra cấu trúc dữ liệu của từng file\n",
        "review_sentiment.printSchema()\n",
        "restaurant_info.printSchema()\n",
        "restaurant_ratings.printSchema()"
      ]
    },
    {
      "cell_type": "code",
      "execution_count": null,
      "metadata": {
        "colab": {
          "base_uri": "https://localhost:8080/"
        },
        "id": "Z2UoUvZ4zvev",
        "outputId": "616d3f78-a8d3-4f07-a4dc-d2ab84427b69"
      },
      "outputs": [
        {
          "output_type": "stream",
          "name": "stdout",
          "text": [
            "+-------------+---------+-------+------+--------------------+-----------+--------------------+--------------------+-------------+---------------+----+---------+-------+--------------------+------------+---------------+----------------+\n",
            "|restaurant_id|review_id|user_id|rating|         review_text|review_date|     restaurant_name|              street|         ward|       district|city|review_id|user_id|         review_text|food_quality|service_quality|ambiance_quality|\n",
            "+-------------+---------+-------+------+--------------------+-----------+--------------------+--------------------+-------------+---------------+----+---------+-------+--------------------+------------+---------------+----------------+\n",
            "|            1|      171|    671|     3|Không tệ nhưng cũ...| 2024-06-30|bun_ca_loc_kien_g...|53 Bùi Đình Túy, ...|           24|quan_binh_thanh| hcm|      484|     81|Quán ăn xuất sắc,...|           5|              5|               3|\n",
            "|            1|      584|    429|     5|Chất lượng tuyệt ...| 2024-06-16|bun_ca_loc_kien_g...|53 Bùi Đình Túy, ...|           24|quan_binh_thanh| hcm|      940|   1658|Dịch vụ quá kém, ...|           3|              1|               3|\n",
            "|            1|      584|    429|     5|Chất lượng tuyệt ...| 2024-06-16|bun_ca_loc_kien_g...|53 Bùi Đình Túy, ...|           24|quan_binh_thanh| hcm|      484|     81|Quán ăn xuất sắc,...|           5|              5|               3|\n",
            "|            1|      584|    429|     5|Chất lượng tuyệt ...| 2024-06-16|bun_ca_loc_kien_g...|53 Bùi Đình Túy, ...|           24|quan_binh_thanh| hcm|      940|   1658|Dịch vụ quá kém, ...|           3|              1|               3|\n",
            "|            1|      584|    429|     5|Chất lượng tuyệt ...| 2024-06-16|bun_ca_loc_kien_g...|53 Bùi Đình Túy, ...|           24|quan_binh_thanh| hcm|      484|     81|Quán ăn xuất sắc,...|           5|              5|               3|\n",
            "|            1|      171|    671|     3|Không tệ nhưng cũ...| 2024-06-30|bun_ca_loc_kien_g...|53 Bùi Đình Túy, ...|           24|quan_binh_thanh| hcm|      940|   1658|Dịch vụ quá kém, ...|           3|              1|               3|\n",
            "|            1|      171|    671|     3|Không tệ nhưng cũ...| 2024-06-30|bun_ca_loc_kien_g...|53 Bùi Đình Túy, ...|           24|quan_binh_thanh| hcm|      484|     81|Quán ăn xuất sắc,...|           5|              5|               3|\n",
            "|            1|      171|    671|     3|Không tệ nhưng cũ...| 2024-06-30|bun_ca_loc_kien_g...|53 Bùi Đình Túy, ...|           24|quan_binh_thanh| hcm|      940|   1658|Dịch vụ quá kém, ...|           3|              1|               3|\n",
            "|            1|      893|   1326|     3|Mọi thứ ổn, không...| 2024-07-13|bun_ca_loc_kien_g...|53 Bùi Đình Túy, ...|           24|quan_binh_thanh| hcm|      940|   1658|Dịch vụ quá kém, ...|           3|              1|               3|\n",
            "|            1|      893|   1326|     3|Mọi thứ ổn, không...| 2024-07-13|bun_ca_loc_kien_g...|53 Bùi Đình Túy, ...|           24|quan_binh_thanh| hcm|      484|     81|Quán ăn xuất sắc,...|           5|              5|               3|\n",
            "|            1|      893|   1326|     3|Mọi thứ ổn, không...| 2024-07-13|bun_ca_loc_kien_g...|53 Bùi Đình Túy, ...|           24|quan_binh_thanh| hcm|      940|   1658|Dịch vụ quá kém, ...|           3|              1|               3|\n",
            "|            1|      893|   1326|     3|Mọi thứ ổn, không...| 2024-07-13|bun_ca_loc_kien_g...|53 Bùi Đình Túy, ...|           24|quan_binh_thanh| hcm|      484|     81|Quán ăn xuất sắc,...|           5|              5|               3|\n",
            "|            1|      201|   1327|     3|Trải nghiệm vừa p...| 2024-07-01|bun_ca_loc_kien_g...|53 Bùi Đình Túy, ...|           24|quan_binh_thanh| hcm|      940|   1658|Dịch vụ quá kém, ...|           3|              1|               3|\n",
            "|            1|      201|   1327|     3|Trải nghiệm vừa p...| 2024-07-01|bun_ca_loc_kien_g...|53 Bùi Đình Túy, ...|           24|quan_binh_thanh| hcm|      484|     81|Quán ăn xuất sắc,...|           5|              5|               3|\n",
            "|            1|      201|   1327|     3|Trải nghiệm vừa p...| 2024-07-01|bun_ca_loc_kien_g...|53 Bùi Đình Túy, ...|           24|quan_binh_thanh| hcm|      940|   1658|Dịch vụ quá kém, ...|           3|              1|               3|\n",
            "|            1|      201|   1327|     3|Trải nghiệm vừa p...| 2024-07-01|bun_ca_loc_kien_g...|53 Bùi Đình Túy, ...|           24|quan_binh_thanh| hcm|      484|     81|Quán ăn xuất sắc,...|           5|              5|               3|\n",
            "|            1|      957|   1327|     4|Trải nghiệm khá ổ...| 2024-07-21|bun_ca_loc_kien_g...|53 Bùi Đình Túy, ...|           24|quan_binh_thanh| hcm|      940|   1658|Dịch vụ quá kém, ...|           3|              1|               3|\n",
            "|            1|      957|   1327|     4|Trải nghiệm khá ổ...| 2024-07-21|bun_ca_loc_kien_g...|53 Bùi Đình Túy, ...|           24|quan_binh_thanh| hcm|      484|     81|Quán ăn xuất sắc,...|           5|              5|               3|\n",
            "|            1|      957|   1327|     4|Trải nghiệm khá ổ...| 2024-07-21|bun_ca_loc_kien_g...|53 Bùi Đình Túy, ...|           24|quan_binh_thanh| hcm|      940|   1658|Dịch vụ quá kém, ...|           3|              1|               3|\n",
            "|            1|      957|   1327|     4|Trải nghiệm khá ổ...| 2024-07-21|bun_ca_loc_kien_g...|53 Bùi Đình Túy, ...|           24|quan_binh_thanh| hcm|      484|     81|Quán ăn xuất sắc,...|           5|              5|               3|\n",
            "|            1|      123|   1670|     5|Quán ăn xuất sắc,...| 2024-06-07|bun_ca_loc_kien_g...|53 Bùi Đình Túy, ...|           24|quan_binh_thanh| hcm|      940|   1658|Dịch vụ quá kém, ...|           3|              1|               3|\n",
            "|            1|      123|   1670|     5|Quán ăn xuất sắc,...| 2024-06-07|bun_ca_loc_kien_g...|53 Bùi Đình Túy, ...|           24|quan_binh_thanh| hcm|      484|     81|Quán ăn xuất sắc,...|           5|              5|               3|\n",
            "|            1|      123|   1670|     5|Quán ăn xuất sắc,...| 2024-06-07|bun_ca_loc_kien_g...|53 Bùi Đình Túy, ...|           24|quan_binh_thanh| hcm|      940|   1658|Dịch vụ quá kém, ...|           3|              1|               3|\n",
            "|            1|      123|   1670|     5|Quán ăn xuất sắc,...| 2024-06-07|bun_ca_loc_kien_g...|53 Bùi Đình Túy, ...|           24|quan_binh_thanh| hcm|      484|     81|Quán ăn xuất sắc,...|           5|              5|               3|\n",
            "|            2|       69|    285|     4|Đồ ăn ngon, phục ...| 2024-07-09|banh_trang_muoi_n...|445 Hương Lộ 2, P...|binh_tri_dong|  quan_binh_tan| hcm|      660|    205|Món ăn trung bình...|           3|              3|               3|\n",
            "|            2|       69|    285|     4|Đồ ăn ngon, phục ...| 2024-07-09|banh_trang_muoi_n...|445 Hương Lộ 2, P...|binh_tri_dong|  quan_binh_tan| hcm|      660|    205|Món ăn trung bình...|           3|              3|               3|\n",
            "|            2|      632|    672|     1|Không hài lòng ch...| 2024-06-07|banh_trang_muoi_n...|445 Hương Lộ 2, P...|binh_tri_dong|  quan_binh_tan| hcm|      660|    205|Món ăn trung bình...|           3|              3|               3|\n",
            "|            2|      632|    672|     1|Không hài lòng ch...| 2024-06-07|banh_trang_muoi_n...|445 Hương Lộ 2, P...|binh_tri_dong|  quan_binh_tan| hcm|      660|    205|Món ăn trung bình...|           3|              3|               3|\n",
            "|            2|      176|   1328|     3|Không tệ nhưng cũ...| 2024-06-05|banh_trang_muoi_n...|445 Hương Lộ 2, P...|binh_tri_dong|  quan_binh_tan| hcm|      660|    205|Món ăn trung bình...|           3|              3|               3|\n",
            "|            2|      176|   1328|     3|Không tệ nhưng cũ...| 2024-06-05|banh_trang_muoi_n...|445 Hương Lộ 2, P...|binh_tri_dong|  quan_binh_tan| hcm|      660|    205|Món ăn trung bình...|           3|              3|               3|\n",
            "+-------------+---------+-------+------+--------------------+-----------+--------------------+--------------------+-------------+---------------+----+---------+-------+--------------------+------------+---------------+----------------+\n",
            "only showing top 30 rows\n",
            "\n"
          ]
        }
      ],
      "source": [
        "combined_data = review_sentiment.join(restaurant_info, \"restaurant_id\").join(restaurant_ratings, \"restaurant_id\")\n",
        "\n",
        "# Sắp xếp kết quả theo thứ tự tăng dần của restaurant_id\n",
        "a = combined_data.orderBy(\"restaurant_id\", ascending=True)\n",
        "\n",
        "# Hiển thị một vài dòng dữ liệu kết quả sau khi join\n",
        "a.show(30)"
      ]
    },
    {
      "cell_type": "code",
      "source": [
        "#Muốn dừng spark thì chạy\n",
        "spark.stop()"
      ],
      "metadata": {
        "id": "oeDty3ELrKu2"
      },
      "execution_count": null,
      "outputs": []
    },
    {
      "cell_type": "markdown",
      "metadata": {
        "id": "17bhs8c16vFj"
      },
      "source": [
        "# Đánh giá nhà hàng dựa vào bình luận và rating"
      ]
    },
    {
      "cell_type": "code",
      "source": [
        "!pip install pyspark==3.4.1 spark-nlp==5.4.2\n"
      ],
      "metadata": {
        "colab": {
          "base_uri": "https://localhost:8080/"
        },
        "id": "IvdgLsHYsoV3",
        "outputId": "6de833b2-86e0-4d8c-b7d2-05088b9de9c9"
      },
      "execution_count": null,
      "outputs": [
        {
          "output_type": "stream",
          "name": "stdout",
          "text": [
            "Collecting pyspark==3.4.1\n",
            "  Downloading pyspark-3.4.1.tar.gz (310.8 MB)\n",
            "\u001b[2K     \u001b[90m━━━━━━━━━━━━━━━━━━━━━━━━━━━━━━━━━━━━━━━━\u001b[0m \u001b[32m310.8/310.8 MB\u001b[0m \u001b[31m4.7 MB/s\u001b[0m eta \u001b[36m0:00:00\u001b[0m\n",
            "\u001b[?25h  Preparing metadata (setup.py) ... \u001b[?25l\u001b[?25hdone\n",
            "Collecting spark-nlp==5.4.2\n",
            "  Downloading spark_nlp-5.4.2-py2.py3-none-any.whl.metadata (55 kB)\n",
            "\u001b[2K     \u001b[90m━━━━━━━━━━━━━━━━━━━━━━━━━━━━━━━━━━━━━━━━\u001b[0m \u001b[32m55.6/55.6 kB\u001b[0m \u001b[31m2.1 MB/s\u001b[0m eta \u001b[36m0:00:00\u001b[0m\n",
            "\u001b[?25hRequirement already satisfied: py4j==0.10.9.7 in /usr/local/lib/python3.10/dist-packages (from pyspark==3.4.1) (0.10.9.7)\n",
            "Downloading spark_nlp-5.4.2-py2.py3-none-any.whl (579 kB)\n",
            "\u001b[2K   \u001b[90m━━━━━━━━━━━━━━━━━━━━━━━━━━━━━━━━━━━━━━━━\u001b[0m \u001b[32m579.5/579.5 kB\u001b[0m \u001b[31m15.2 MB/s\u001b[0m eta \u001b[36m0:00:00\u001b[0m\n",
            "\u001b[?25hBuilding wheels for collected packages: pyspark\n",
            "  Building wheel for pyspark (setup.py) ... \u001b[?25l\u001b[?25hdone\n",
            "  Created wheel for pyspark: filename=pyspark-3.4.1-py2.py3-none-any.whl size=311285391 sha256=f0b790ec03a48646c0853ed3497dab5cc68dd4c3b3013677b79ae34076279234\n",
            "  Stored in directory: /root/.cache/pip/wheels/0d/77/a3/ff2f74cc9ab41f8f594dabf0579c2a7c6de920d584206e0834\n",
            "Successfully built pyspark\n",
            "Installing collected packages: spark-nlp, pyspark\n",
            "Successfully installed pyspark-3.4.1 spark-nlp-5.4.2\n"
          ]
        }
      ]
    },
    {
      "cell_type": "markdown",
      "source": [
        "## Sử dụng spark nlp ptich bình luận"
      ],
      "metadata": {
        "id": "orr9kuRlAsv2"
      }
    },
    {
      "cell_type": "code",
      "execution_count": null,
      "metadata": {
        "colab": {
          "base_uri": "https://localhost:8080/"
        },
        "id": "sUzzKBix6wGg",
        "outputId": "ae6773c9-f8db-4f16-91f7-f6ba5c018b84"
      },
      "outputs": [
        {
          "output_type": "stream",
          "name": "stdout",
          "text": [
            "Collecting spark-nlp\n",
            "  Downloading spark_nlp-5.4.2-py2.py3-none-any.whl.metadata (55 kB)\n",
            "\u001b[?25l     \u001b[90m━━━━━━━━━━━━━━━━━━━━━━━━━━━━━━━━━━━━━━━━\u001b[0m \u001b[32m0.0/55.6 kB\u001b[0m \u001b[31m?\u001b[0m eta \u001b[36m-:--:--\u001b[0m\r\u001b[2K     \u001b[90m━━━━━━━━━━━━━━━━━━━━━━━━━━━━━━━━━━━━━━━━\u001b[0m \u001b[32m55.6/55.6 kB\u001b[0m \u001b[31m3.8 MB/s\u001b[0m eta \u001b[36m0:00:00\u001b[0m\n",
            "\u001b[?25hDownloading spark_nlp-5.4.2-py2.py3-none-any.whl (579 kB)\n",
            "\u001b[?25l   \u001b[90m━━━━━━━━━━━━━━━━━━━━━━━━━━━━━━━━━━━━━━━━\u001b[0m \u001b[32m0.0/579.5 kB\u001b[0m \u001b[31m?\u001b[0m eta \u001b[36m-:--:--\u001b[0m\r\u001b[2K   \u001b[90m━━━━━━━━━━━━━━━━━━━━━━━━━━━━━━━━━━━━━━━━\u001b[0m \u001b[32m579.5/579.5 kB\u001b[0m \u001b[31m17.6 MB/s\u001b[0m eta \u001b[36m0:00:00\u001b[0m\n",
            "\u001b[?25hInstalling collected packages: spark-nlp\n",
            "Successfully installed spark-nlp-5.4.2\n"
          ]
        }
      ],
      "source": [
        "!pip install spark-nlp\n"
      ]
    },
    {
      "cell_type": "code",
      "source": [
        "import sparknlp\n",
        "from sparknlp.base import *\n",
        "from sparknlp.annotator import *\n",
        "from pyspark.ml import Pipeline\n",
        "\n",
        "# Khởi tạo Spark NLP\n",
        "spark = sparknlp.start()\n",
        "\n",
        "# Nạp dữ liệu đã kết hợp\n",
        "combined_data = spark.read.csv(\"/content/drive/MyDrive/Big_Data/Tiểu luận/model/file-csv/phan-tich-cam-xuc.csv\", header=True, inferSchema=True)\n",
        "\n",
        "# Tiền xử lý văn bản: Tokenize và xử lý văn bản\n",
        "document_assembler = DocumentAssembler() \\\n",
        "    .setInputCol(\"review_text\") \\\n",
        "    .setOutputCol(\"document\")\n",
        "\n",
        "tokenizer = Tokenizer() \\\n",
        "    .setInputCols([\"document\"]) \\\n",
        "    .setOutputCol(\"token\")\n",
        "\n",
        "# Sử dụng mô hình phân tích cảm xúc Vivekn\n",
        "sentiment_detector = ViveknSentimentModel.pretrained() \\\n",
        "    .setInputCols([\"document\", \"token\"]) \\\n",
        "    .setOutputCol(\"sentiment\")\n",
        "\n",
        "# Tạo pipeline Spark NLP\n",
        "pipeline = Pipeline(stages=[\n",
        "    document_assembler,\n",
        "    tokenizer,\n",
        "    sentiment_detector\n",
        "])\n",
        "\n",
        "# Áp dụng pipeline vào dữ liệu\n",
        "model = pipeline.fit(combined_data)\n",
        "result = model.transform(combined_data)\n",
        "\n",
        "# Sắp xếp kết quả theo thứ tự tăng dần của restaurant_id\n",
        "phan_tich_cam_xuc = result.orderBy(\"restaurant_id\", ascending=True)\n",
        "\n",
        "# Hiển thị kết quả\n",
        "phan_tich_cam_xuc.select(\"restaurant_id\", \"review_id\",  \"user_id\", \"review_text\", \"sentiment.result\").show(truncate=False)\n"
      ],
      "metadata": {
        "colab": {
          "base_uri": "https://localhost:8080/"
        },
        "id": "0mycSWcTqFvW",
        "outputId": "537ddaa3-3e8e-474e-f6aa-4fb056d93bb5"
      },
      "execution_count": null,
      "outputs": [
        {
          "output_type": "stream",
          "name": "stdout",
          "text": [
            "sentiment_vivekn download started this may take some time.\n",
            "Approximate size to download 873.6 KB\n",
            "[OK!]\n",
            "+-------------+---------+-------+------------------------------------------------+----------+\n",
            "|restaurant_id|review_id|user_id|review_text                                     |result    |\n",
            "+-------------+---------+-------+------------------------------------------------+----------+\n",
            "|1            |893      |1326   |Mọi thứ ổn, không có gì đặc biệt.               |[negative]|\n",
            "|1            |171      |671    |Không tệ nhưng cũng không quá tốt.              |[negative]|\n",
            "|1            |584      |429    |Chất lượng tuyệt đỉnh, không chê vào đâu được.  |[negative]|\n",
            "|1            |201      |1327   |Trải nghiệm vừa phải, không có gì đáng nhớ.     |[negative]|\n",
            "|1            |957      |1327   |Trải nghiệm khá ổn, hài lòng.                   |[negative]|\n",
            "|1            |123      |1670   |Quán ăn xuất sắc, đồ ăn ngon và phục vụ chu đáo.|[negative]|\n",
            "|2            |369      |1329   |Quán ăn xuất sắc, đồ ăn ngon và phục vụ chu đáo.|[negative]|\n",
            "|2            |632      |672    |Không hài lòng chút nào, quá tệ!                |[positive]|\n",
            "|2            |69       |285    |Đồ ăn ngon, phục vụ chu đáo.                    |[negative]|\n",
            "|2            |331      |1328   |Một buổi tối dễ chịu, sẽ giới thiệu bạn bè.     |[negative]|\n",
            "|2            |176      |1328   |Không tệ nhưng cũng không quá tốt.              |[negative]|\n",
            "|2            |690      |1522   |Tuyệt vời, dịch vụ và món ăn đều hoàn hảo!      |[positive]|\n",
            "|3            |834      |1329   |Trải nghiệm khá ổn, hài lòng.                   |[negative]|\n",
            "|3            |121      |672    |Không mấy ấn tượng, nhưng cũng tạm được.        |[negative]|\n",
            "|3            |811      |454    |Có nhiều vấn đề, không tốt lắm.                 |[negative]|\n",
            "|3            |409      |1329   |Giá cả hợp lý, chất lượng tốt.                  |[negative]|\n",
            "|3            |758      |1329   |Bình thường, không có gì nổi bật.               |[negative]|\n",
            "|3            |817      |1796   |Trải nghiệm vừa phải, không có gì đáng nhớ.     |[negative]|\n",
            "|4            |661      |270    |Trải nghiệm tồi tệ, không muốn quay lại.        |[negative]|\n",
            "|4            |956      |673    |Trải nghiệm vừa phải, không có gì đáng nhớ.     |[negative]|\n",
            "+-------------+---------+-------+------------------------------------------------+----------+\n",
            "only showing top 20 rows\n",
            "\n"
          ]
        }
      ]
    },
    {
      "cell_type": "markdown",
      "source": [
        "### DO KẾT QUẢ PHÂN LOẠI DỰA VÀO SPARKNLP KÉM NÊN EM SẼ TẠO THÊM TỪ ĐIỂN CẢM XÚC ĐỂ MÁY PHÂN LOẠI TỐT HƠN"
      ],
      "metadata": {
        "id": "STZvoydIEGpE"
      }
    },
    {
      "cell_type": "code",
      "source": [
        "# Tạo từ điển cảm xúc\n",
        "negative_words = [\n",
        "    \"tồi\", \"tệ\", \"không muốn quay lại\", \"kém\", \"không đáng giá\",\n",
        "    \"thất vọng\", \"không ngon\", \"chờ đợi lâu\", \"không hài lòng\",\n",
        "    \"không tốt\", \"chán\", \"tạm\", \"thấp\"\n",
        "]\n",
        "\n",
        "positive_words = [\n",
        "    \"tốt\", \"ngon\", \"sẽ quay lại\", \"hài lòng\", \"đáo\", \"hợp lí\", \"dễ\"\n",
        "    \"tuyệt vời\", \"hoàn hảo\", \"tuyệt\", \"xuất sắc\", \"tuyệt vời\", \"ổn\"\n",
        "\n",
        "]\n",
        "\n"
      ],
      "metadata": {
        "id": "c91kQwioCCpx"
      },
      "execution_count": null,
      "outputs": []
    },
    {
      "cell_type": "code",
      "source": [
        "from pyspark.sql.functions import udf\n",
        "from pyspark.sql.types import StringType\n",
        "\n",
        "# Hàm phân loại cảm xúc dựa trên từ điển\n",
        "def classify_sentiment(text):\n",
        "    if any(word in text for word in negative_words):\n",
        "        return \"Negative\"\n",
        "    elif any(word in text for word in positive_words):\n",
        "        return \"Positive\"\n",
        "    else:\n",
        "        return \"Neutral\"\n",
        "\n",
        "# Đăng ký UDF với Spark\n",
        "classify_sentiment_udf = udf(classify_sentiment, StringType())\n"
      ],
      "metadata": {
        "id": "RbpBEiJCC251"
      },
      "execution_count": null,
      "outputs": []
    },
    {
      "cell_type": "code",
      "source": [
        "import sparknlp\n",
        "from sparknlp.base import *\n",
        "from sparknlp.annotator import *\n",
        "from pyspark.ml import Pipeline\n",
        "from pyspark.sql.functions import col\n",
        "\n",
        "# Khởi tạo Spark NLP\n",
        "spark = sparknlp.start()\n",
        "\n",
        "# Nạp dữ liệu đã kết hợp\n",
        "combined_data = spark.read.csv(\"/content/drive/MyDrive/Big_Data/Tiểu luận/model/file-csv/phan-tich-cam-xuc.csv\", header=True, inferSchema=True)\n",
        "\n",
        "# Tiền xử lý văn bản: Tokenize và xử lý văn bản\n",
        "document_assembler = DocumentAssembler() \\\n",
        "    .setInputCol(\"review_text\") \\\n",
        "    .setOutputCol(\"document\")\n",
        "\n",
        "tokenizer = Tokenizer() \\\n",
        "    .setInputCols([\"document\"]) \\\n",
        "    .setOutputCol(\"token\")\n",
        "\n",
        "# Sử dụng mô hình phân tích cảm xúc Vivekn\n",
        "sentiment_detector = ViveknSentimentModel.pretrained() \\\n",
        "    .setInputCols([\"document\", \"token\"]) \\\n",
        "    .setOutputCol(\"sentiment\")\n",
        "\n",
        "# Tạo UDF để phân loại cảm xúc\n",
        "classify_sentiment_udf = udf(classify_sentiment, StringType())\n",
        "\n",
        "# Tạo pipeline Spark NLP\n",
        "pipeline = Pipeline(stages=[\n",
        "    document_assembler,\n",
        "    tokenizer,\n",
        "    sentiment_detector\n",
        "])\n",
        "\n",
        "# Áp dụng pipeline vào dữ liệu\n",
        "model = pipeline.fit(combined_data)\n",
        "result = model.transform(combined_data)\n",
        "\n",
        "# Áp dụng UDF để phân loại cảm xúc dựa trên từ điển\n",
        "result_with_custom_sentiment = result.withColumn(\"ket_qua_khi_co_tu_dien\", classify_sentiment_udf(col(\"review_text\")))\n",
        "\n",
        "# Sắp xếp kết quả theo thứ tự tăng dần của restaurant_id\n",
        "phan_tich_cam_xuc = result_with_custom_sentiment.orderBy(\"restaurant_id\", ascending=True)\n",
        "\n",
        "# Hiển thị kết quả\n",
        "phan_tich_cam_xuc.select(\"restaurant_id\", \"review_id\", \"user_id\", \"review_text\", \"sentiment.result\", \"ket_qua_khi_co_tu_dien\").show(truncate=False)\n"
      ],
      "metadata": {
        "colab": {
          "base_uri": "https://localhost:8080/"
        },
        "id": "OYF9xK2-BWLQ",
        "outputId": "4ff17daa-3d97-4c84-e5d7-513fa24832b7"
      },
      "execution_count": null,
      "outputs": [
        {
          "output_type": "stream",
          "name": "stdout",
          "text": [
            "Warning::Spark Session already created, some configs may not take.\n",
            "sentiment_vivekn download started this may take some time.\n",
            "Approximate size to download 873.6 KB\n",
            "[OK!]\n",
            "+-------------+---------+-------+------------------------------------------------+----------+----------------------+\n",
            "|restaurant_id|review_id|user_id|review_text                                     |result    |ket_qua_khi_co_tu_dien|\n",
            "+-------------+---------+-------+------------------------------------------------+----------+----------------------+\n",
            "|1            |893      |1326   |Mọi thứ ổn, không có gì đặc biệt.               |[negative]|Positive              |\n",
            "|1            |171      |671    |Không tệ nhưng cũng không quá tốt.              |[negative]|Negative              |\n",
            "|1            |584      |429    |Chất lượng tuyệt đỉnh, không chê vào đâu được.  |[negative]|Positive              |\n",
            "|1            |201      |1327   |Trải nghiệm vừa phải, không có gì đáng nhớ.     |[negative]|Neutral               |\n",
            "|1            |957      |1327   |Trải nghiệm khá ổn, hài lòng.                   |[negative]|Positive              |\n",
            "|1            |123      |1670   |Quán ăn xuất sắc, đồ ăn ngon và phục vụ chu đáo.|[negative]|Positive              |\n",
            "|2            |369      |1329   |Quán ăn xuất sắc, đồ ăn ngon và phục vụ chu đáo.|[negative]|Positive              |\n",
            "|2            |632      |672    |Không hài lòng chút nào, quá tệ!                |[positive]|Negative              |\n",
            "|2            |69       |285    |Đồ ăn ngon, phục vụ chu đáo.                    |[negative]|Positive              |\n",
            "|2            |331      |1328   |Một buổi tối dễ chịu, sẽ giới thiệu bạn bè.     |[negative]|Neutral               |\n",
            "|2            |176      |1328   |Không tệ nhưng cũng không quá tốt.              |[negative]|Negative              |\n",
            "|2            |690      |1522   |Tuyệt vời, dịch vụ và món ăn đều hoàn hảo!      |[positive]|Positive              |\n",
            "|3            |834      |1329   |Trải nghiệm khá ổn, hài lòng.                   |[negative]|Positive              |\n",
            "|3            |121      |672    |Không mấy ấn tượng, nhưng cũng tạm được.        |[negative]|Negative              |\n",
            "|3            |811      |454    |Có nhiều vấn đề, không tốt lắm.                 |[negative]|Negative              |\n",
            "|3            |409      |1329   |Giá cả hợp lý, chất lượng tốt.                  |[negative]|Positive              |\n",
            "|3            |758      |1329   |Bình thường, không có gì nổi bật.               |[negative]|Neutral               |\n",
            "|3            |817      |1796   |Trải nghiệm vừa phải, không có gì đáng nhớ.     |[negative]|Neutral               |\n",
            "|4            |661      |270    |Trải nghiệm tồi tệ, không muốn quay lại.        |[negative]|Negative              |\n",
            "|4            |956      |673    |Trải nghiệm vừa phải, không có gì đáng nhớ.     |[negative]|Neutral               |\n",
            "+-------------+---------+-------+------------------------------------------------+----------+----------------------+\n",
            "only showing top 20 rows\n",
            "\n"
          ]
        }
      ]
    },
    {
      "cell_type": "markdown",
      "source": [
        "### kiem tra"
      ],
      "metadata": {
        "id": "-isv_ACsHvke"
      }
    },
    {
      "cell_type": "code",
      "source": [
        "# kết quả của model khi có từ điển\n",
        "a = '{:-^50}'.format('kết quả khi thêm từ điển')\n",
        "print(a)\n",
        "result_with_custom_sentiment.groupBy(\"ket_qua_khi_co_tu_dien\").count().show()\n",
        "\n",
        "#kết quả khi không có\n",
        "b = '{:-^50}'.format('kết quả khi không có từ điển')\n",
        "print(b)\n",
        "result.groupBy(\"sentiment.result\").count().show()\n"
      ],
      "metadata": {
        "colab": {
          "base_uri": "https://localhost:8080/"
        },
        "id": "bnYVZkHcAdvu",
        "outputId": "c693f298-51ed-4fd4-c71e-66356e02e505"
      },
      "execution_count": null,
      "outputs": [
        {
          "output_type": "stream",
          "name": "stdout",
          "text": [
            "-------------kết quả khi thêm từ điển-------------\n",
            "+----------------------+-----+\n",
            "|ket_qua_khi_co_tu_dien|count|\n",
            "+----------------------+-----+\n",
            "|              Positive| 2650|\n",
            "|               Neutral|  938|\n",
            "|              Negative| 2370|\n",
            "+----------------------+-----+\n",
            "\n",
            "-----------kết quả khi không có từ điển-----------\n",
            "+----------+-----+\n",
            "|    result|count|\n",
            "+----------+-----+\n",
            "|[positive]|  713|\n",
            "|[negative]| 5245|\n",
            "+----------+-----+\n",
            "\n"
          ]
        }
      ]
    },
    {
      "cell_type": "markdown",
      "source": [
        "### đánh giá nhà hàng dựa vào comment\n"
      ],
      "metadata": {
        "id": "SuRPQMKBH3pU"
      }
    },
    {
      "cell_type": "code",
      "source": [
        "from pyspark.sql.functions import col, udf, when, max as sql_max\n",
        "from pyspark.sql.types import StringType\n",
        "\n",
        "# Tạo UDF để ánh xạ cảm xúc thành nhãn đánh giá\n",
        "def map_sentiment_to_label(sentiment):\n",
        "    if sentiment == \"Positive\":\n",
        "        return \"Ngon\"\n",
        "    elif sentiment == \"Neutral\":\n",
        "        return \"Bình thường\"\n",
        "    elif sentiment == \"Negative\":\n",
        "        return \"Dở\"\n",
        "    else:\n",
        "        return \"Chưa xác định\"\n",
        "\n",
        "map_sentiment_udf = udf(map_sentiment_to_label, StringType())\n",
        "\n",
        "# Áp dụng UDF để tạo cột đánh giá\n",
        "result_with_labels = result_with_custom_sentiment.withColumn(\"rating_label\", map_sentiment_udf(col(\"ket_qua_khi_co_tu_dien\")))\n",
        "\n",
        "# Nhóm theo restaurant_id và cảm xúc, đếm số lượng các cảm xúc\n",
        "grouped_result = result_with_labels.groupBy(\"restaurant_id\", \"rating_label\").count()\n",
        "\n",
        "# Tìm cảm xúc xuất hiện nhiều nhất cho từng restaurant_id\n",
        "from pyspark.sql.window import Window\n",
        "\n",
        "# Sắp xếp theo số lượng giảm dần trong mỗi nhóm restaurant_id\n",
        "window_spec = Window.partitionBy(\"restaurant_id\").orderBy(col(\"count\").desc())\n",
        "\n",
        "# Chọn cảm xúc xuất hiện nhiều nhất\n",
        "most_frequent_sentiment = grouped_result.withColumn(\"rank\", sql_max(\"count\").over(window_spec)) \\\n",
        "    .filter(col(\"count\") == col(\"rank\")) \\\n",
        "    .select(\"restaurant_id\", \"rating_label\")\n",
        "\n",
        "# Hiển thị kết quả\n",
        "most_frequent_sentiment.show()"
      ],
      "metadata": {
        "colab": {
          "base_uri": "https://localhost:8080/"
        },
        "id": "z9zuBeCeHF2f",
        "outputId": "39a0cbfb-c243-4ecd-b0ea-94ae8fa46257"
      },
      "execution_count": null,
      "outputs": [
        {
          "output_type": "stream",
          "name": "stdout",
          "text": [
            "+-------------+------------+\n",
            "|restaurant_id|rating_label|\n",
            "+-------------+------------+\n",
            "|            1|        Ngon|\n",
            "|            2|        Ngon|\n",
            "|            3|          Dở|\n",
            "|            3| Bình thường|\n",
            "|            3|        Ngon|\n",
            "|            4| Bình thường|\n",
            "|            5|        Ngon|\n",
            "|            6|          Dở|\n",
            "|            7|          Dở|\n",
            "|            8|          Dở|\n",
            "|            9|        Ngon|\n",
            "|           10|        Ngon|\n",
            "|           11|        Ngon|\n",
            "|           12|        Ngon|\n",
            "|           13|          Dở|\n",
            "|           13| Bình thường|\n",
            "|           13|        Ngon|\n",
            "|           14|        Ngon|\n",
            "|           15|          Dở|\n",
            "|           16|          Dở|\n",
            "+-------------+------------+\n",
            "only showing top 20 rows\n",
            "\n"
          ]
        }
      ]
    },
    {
      "cell_type": "markdown",
      "source": [
        "## Dựa vào sentiment_score(được tạo ra từ rating) để phân tích cảm xúc-> đánh giá nhà hàng dựa vào sentiment_score"
      ],
      "metadata": {
        "id": "U3AJ_OoW-Mak"
      }
    },
    {
      "cell_type": "code",
      "source": [
        "import pandas as pd\n",
        "import random\n",
        "\n",
        "# Đọc tệp CSV\n",
        "file_path = '/content/drive/MyDrive/Big_Data/Tiểu luận/model/file-csv/phan-tich-cam-xuc.csv'\n",
        "df = pd.read_csv(file_path)\n",
        "\n",
        "# Sentiment score ranges based on the rating\n",
        "sentiment_ranges = {\n",
        "    1: (-1, -0.6),\n",
        "    2: (-0.6, -0.2),\n",
        "    3: (-0.2, 0.2),\n",
        "    4: (0.2, 0.6),\n",
        "    5: (0.6, 1)\n",
        "}\n",
        "\n",
        "# Thêm cột sentiment_score vào DataFrame\n",
        "def calculate_sentiment_score(rating):\n",
        "    if rating in sentiment_ranges:\n",
        "        return round(random.uniform(*sentiment_ranges[rating]), 2)\n",
        "    return None\n",
        "\n",
        "df['sentiment_score'] = df['rating'].apply(calculate_sentiment_score)\n",
        "\n",
        "# Lưu DataFrame vào tệp CSV mới\n",
        "output_path = '/content/phan-tich-cam-xuc_updated.csv'\n",
        "df.to_csv(output_path, index=False)\n",
        "\n",
        "output_path\n"
      ],
      "metadata": {
        "colab": {
          "base_uri": "https://localhost:8080/",
          "height": 35
        },
        "id": "y3JJGse7CWzt",
        "outputId": "e7e1cbac-6f47-4561-d10a-d7d5364cf6d1"
      },
      "execution_count": null,
      "outputs": [
        {
          "output_type": "execute_result",
          "data": {
            "text/plain": [
              "'/content/phan-tich-cam-xuc_updated.csv'"
            ],
            "application/vnd.google.colaboratory.intrinsic+json": {
              "type": "string"
            }
          },
          "metadata": {},
          "execution_count": 36
        }
      ]
    },
    {
      "cell_type": "code",
      "source": [
        "from pyspark.sql import SparkSession\n",
        "from pyspark.sql.functions import col, when\n",
        "\n",
        "# Khởi tạo SparkSession\n",
        "spark = SparkSession.builder.appName(\"SentimentClassification\").getOrCreate()\n",
        "\n",
        "# Đọc dữ liệu từ tệp CSV\n",
        "file_path = '/content/phan-tich-cam-xuc_updated.csv'\n",
        "data = spark.read.csv(file_path, header=True, inferSchema=True)\n",
        "\n",
        "# Phân loại cảm xúc dựa trên sentiment_score\n",
        "classified_data = data.withColumn(\n",
        "    \"ý_nghĩa_đánh_giá\",\n",
        "    when(col(\"sentiment_score\").between(-1, -0.6), \"đánh giá tiêu cực\")\n",
        "    .when(col(\"sentiment_score\").between(-0.6, -0.2), \"đánh giá góp ý\")\n",
        "    .when(col(\"sentiment_score\").between(-0.2, 0.2), \"đánh giá trung lập\")\n",
        "    .when(col(\"sentiment_score\").between(0.2, 0.6), \"đánh giá tích cực\")\n",
        "    .otherwise(\"đánh giá tốt\")\n",
        ")\n",
        "\n",
        "# Sắp xếp kết quả theo thứ tự tăng dần của restaurant_id\n",
        "phan_tich_cam_xuc = classified_data.orderBy(\"restaurant_id\", ascending=True)\n",
        "\n",
        "# Hiển thị kết quả\n",
        "phan_tich_cam_xuc.select(\"restaurant_id\", \"review_id\", \"user_id\", \"review_text\", \"sentiment_score\", \"ý_nghĩa_đánh_giá\").show(truncate=False)"
      ],
      "metadata": {
        "colab": {
          "base_uri": "https://localhost:8080/"
        },
        "id": "JgTqXHYUILAB",
        "outputId": "1bd511b4-511b-4111-aff1-3488040699a4"
      },
      "execution_count": null,
      "outputs": [
        {
          "output_type": "stream",
          "name": "stdout",
          "text": [
            "+-------------+---------+-------+------------------------------------------------+---------------+------------------+\n",
            "|restaurant_id|review_id|user_id|review_text                                     |sentiment_score|ý_nghĩa_đánh_giá  |\n",
            "+-------------+---------+-------+------------------------------------------------+---------------+------------------+\n",
            "|1            |893      |1326   |Mọi thứ ổn, không có gì đặc biệt.               |-0.07          |đánh giá trung lập|\n",
            "|1            |171      |671    |Không tệ nhưng cũng không quá tốt.              |-0.17          |đánh giá trung lập|\n",
            "|1            |584      |429    |Chất lượng tuyệt đỉnh, không chê vào đâu được.  |0.83           |đánh giá tốt      |\n",
            "|1            |201      |1327   |Trải nghiệm vừa phải, không có gì đáng nhớ.     |0.12           |đánh giá trung lập|\n",
            "|1            |957      |1327   |Trải nghiệm khá ổn, hài lòng.                   |0.44           |đánh giá tích cực |\n",
            "|1            |123      |1670   |Quán ăn xuất sắc, đồ ăn ngon và phục vụ chu đáo.|0.79           |đánh giá tốt      |\n",
            "|2            |369      |1329   |Quán ăn xuất sắc, đồ ăn ngon và phục vụ chu đáo.|0.67           |đánh giá tốt      |\n",
            "|2            |632      |672    |Không hài lòng chút nào, quá tệ!                |-0.98          |đánh giá tiêu cực |\n",
            "|2            |69       |285    |Đồ ăn ngon, phục vụ chu đáo.                    |0.27           |đánh giá tích cực |\n",
            "|2            |331      |1328   |Một buổi tối dễ chịu, sẽ giới thiệu bạn bè.     |0.24           |đánh giá tích cực |\n",
            "|2            |176      |1328   |Không tệ nhưng cũng không quá tốt.              |-0.14          |đánh giá trung lập|\n",
            "|2            |690      |1522   |Tuyệt vời, dịch vụ và món ăn đều hoàn hảo!      |0.9            |đánh giá tốt      |\n",
            "|3            |834      |1329   |Trải nghiệm khá ổn, hài lòng.                   |0.32           |đánh giá tích cực |\n",
            "|3            |121      |672    |Không mấy ấn tượng, nhưng cũng tạm được.        |-0.25          |đánh giá góp ý    |\n",
            "|3            |811      |454    |Có nhiều vấn đề, không tốt lắm.                 |-0.22          |đánh giá góp ý    |\n",
            "|3            |409      |1329   |Giá cả hợp lý, chất lượng tốt.                  |0.25           |đánh giá tích cực |\n",
            "|3            |758      |1329   |Bình thường, không có gì nổi bật.               |-0.09          |đánh giá trung lập|\n",
            "|3            |817      |1796   |Trải nghiệm vừa phải, không có gì đáng nhớ.     |0.01           |đánh giá trung lập|\n",
            "|4            |661      |270    |Trải nghiệm tồi tệ, không muốn quay lại.        |-0.64          |đánh giá tiêu cực |\n",
            "|4            |956      |673    |Trải nghiệm vừa phải, không có gì đáng nhớ.     |-0.12          |đánh giá trung lập|\n",
            "+-------------+---------+-------+------------------------------------------------+---------------+------------------+\n",
            "only showing top 20 rows\n",
            "\n"
          ]
        }
      ]
    },
    {
      "cell_type": "code",
      "source": [
        "from pyspark.sql import SparkSession\n",
        "from pyspark.sql.functions import avg, col, udf\n",
        "from pyspark.sql.types import StringType\n",
        "\n",
        "# Tạo session Spark\n",
        "spark = SparkSession.builder.appName(\"RestaurantRating\").getOrCreate()\n",
        "\n",
        "# Đọc dữ liệu (cập nhật đường dẫn của bạn)\n",
        "data = spark.read.csv(\"/content/phan-tich-cam-xuc_updated.csv\", header=True, inferSchema=True)\n",
        "\n",
        "# Tính điểm trung bình sentiment_score cho mỗi restaurant_id\n",
        "restaurant_scores = data.groupBy(\"restaurant_id\").agg(avg(\"sentiment_score\").alias(\"avg_score\"))\n",
        "\n",
        "# Phân loại nhà hàng dựa trên điểm trung bình\n",
        "def classify_restaurant(score):\n",
        "    if score <= -0.6:\n",
        "        return \"Tệ\"\n",
        "    elif score <= -0.2:\n",
        "        return \"Kém\"\n",
        "    elif score <= 0.2:\n",
        "        return \"Trung bình\"\n",
        "    elif score <= 0.6:\n",
        "        return \"Tốt\"\n",
        "    else:\n",
        "        return \"Xuất sắc\"\n",
        "\n",
        "# Đăng ký UDF cho Spark\n",
        "classify_udf = udf(classify_restaurant, StringType())\n",
        "\n",
        "# Áp dụng UDF để phân loại và thêm cột rating\n",
        "restaurant_ratings = restaurant_scores.withColumn(\"danh_gia\", classify_udf(col(\"avg_score\")))\n",
        "\n",
        "# Sắp xếp kết quả theo thứ tự tăng dần của restaurant_id\n",
        "restaurant_ratings_sorted = restaurant_ratings.orderBy(\"restaurant_id\", ascending=True)\n",
        "\n",
        "# Hiển thị kết quả\n",
        "restaurant_ratings_sorted.show()\n"
      ],
      "metadata": {
        "colab": {
          "base_uri": "https://localhost:8080/"
        },
        "id": "MrMgj4Y62IGV",
        "outputId": "5540ddac-e702-48ae-9c33-a009676d2084"
      },
      "execution_count": null,
      "outputs": [
        {
          "output_type": "stream",
          "name": "stdout",
          "text": [
            "+-------------+--------------------+----------+\n",
            "|restaurant_id|           avg_score|  danh_gia|\n",
            "+-------------+--------------------+----------+\n",
            "|            1|  0.3233333333333333|       Tốt|\n",
            "|            2|                0.16|Trung bình|\n",
            "|            3|0.003333333333333...|Trung bình|\n",
            "|            4| 0.19833333333333333|Trung bình|\n",
            "|            5| 0.33666666666666667|       Tốt|\n",
            "|            6|              -0.165|Trung bình|\n",
            "|            7|-0.38833333333333336|       Kém|\n",
            "|            8|-0.09833333333333334|Trung bình|\n",
            "|            9| 0.19500000000000003|Trung bình|\n",
            "|           10|  0.4383333333333333|       Tốt|\n",
            "|           11|  0.4466666666666667|       Tốt|\n",
            "|           12|  0.2966666666666667|       Tốt|\n",
            "|           13| 0.02999999999999999|Trung bình|\n",
            "|           14| 0.26666666666666666|       Tốt|\n",
            "|           15|               -0.02|Trung bình|\n",
            "|           16|-0.18333333333333335|Trung bình|\n",
            "|           17|-0.21999999999999997|       Kém|\n",
            "|           18| 0.38000000000000006|       Tốt|\n",
            "|           19| -0.1733333333333333|Trung bình|\n",
            "|           20|-0.23666666666666666|       Kém|\n",
            "+-------------+--------------------+----------+\n",
            "only showing top 20 rows\n",
            "\n"
          ]
        }
      ]
    },
    {
      "cell_type": "code",
      "source": [
        "# Sắp xếp kết quả theo thứ tự tăng dần của restaurant_id\n",
        "restaurant_ratings_sorted = restaurant_ratings.orderBy(\"restaurant_id\", ascending=True)\n",
        "\n",
        "# Hiển thị kết quả\n",
        "restaurant_ratings_sorted.show()\n",
        "\n",
        "# Lưu kết quả vào file CSV\n",
        "output_path = \"/content/restaurant_ratings_sorted.csv\"\n",
        "restaurant_ratings_sorted.write.csv(output_path, header=True)\n",
        "\n",
        "print(f\"Kết quả đã được lưu vào: {output_path}\")\n"
      ],
      "metadata": {
        "colab": {
          "base_uri": "https://localhost:8080/"
        },
        "id": "5AlL2eeuuDvg",
        "outputId": "07b2d982-a727-4197-a779-0b99da0db7f4"
      },
      "execution_count": null,
      "outputs": [
        {
          "output_type": "stream",
          "name": "stdout",
          "text": [
            "+-------------+--------------------+----------+\n",
            "|restaurant_id|           avg_score|  danh_gia|\n",
            "+-------------+--------------------+----------+\n",
            "|            1|  0.3233333333333333|       Tốt|\n",
            "|            2|                0.16|Trung bình|\n",
            "|            3|0.003333333333333...|Trung bình|\n",
            "|            4| 0.19833333333333333|Trung bình|\n",
            "|            5| 0.33666666666666667|       Tốt|\n",
            "|            6|              -0.165|Trung bình|\n",
            "|            7|-0.38833333333333336|       Kém|\n",
            "|            8|-0.09833333333333334|Trung bình|\n",
            "|            9| 0.19500000000000003|Trung bình|\n",
            "|           10|  0.4383333333333333|       Tốt|\n",
            "|           11|  0.4466666666666667|       Tốt|\n",
            "|           12|  0.2966666666666667|       Tốt|\n",
            "|           13| 0.02999999999999999|Trung bình|\n",
            "|           14| 0.26666666666666666|       Tốt|\n",
            "|           15|               -0.02|Trung bình|\n",
            "|           16|-0.18333333333333335|Trung bình|\n",
            "|           17|-0.21999999999999997|       Kém|\n",
            "|           18| 0.38000000000000006|       Tốt|\n",
            "|           19| -0.1733333333333333|Trung bình|\n",
            "|           20|-0.23666666666666666|       Kém|\n",
            "+-------------+--------------------+----------+\n",
            "only showing top 20 rows\n",
            "\n",
            "Kết quả đã được lưu vào: /content/restaurant_ratings_sorted.csv\n"
          ]
        }
      ]
    },
    {
      "cell_type": "markdown",
      "source": [
        "# Sử dụng trung bình trọng số để đánh giá rating hiện tại và mô hình linear để dự đoán xu hướng nhà hàng trở nên tốt hơn hay xấu đi"
      ],
      "metadata": {
        "id": "uU5OhvguRCKH"
      }
    },
    {
      "cell_type": "code",
      "source": [
        "import pandas as pd\n",
        "from sklearn.linear_model import LinearRegression\n",
        "from datetime import datetime\n",
        "\n",
        "#  Đọc dữ liệu từ file CSV\n",
        "data = pd.read_csv('/content/drive/MyDrive/Big_Data/Tiểu luận/model/file-csv/phan-tich-cam-xuc.csv')\n",
        "\n",
        "#  Chuyển đổi cột 'review_date' thành định dạng ngày tháng\n",
        "data['review_date'] = pd.to_datetime(data['review_date'], errors='coerce')\n",
        "\n",
        "#  Loại bỏ các hàng có giá trị thiếu trong 'review_date' hoặc 'rating'\n",
        "data = data.dropna(subset=['review_date', 'rating'])\n",
        "\n",
        "#  Sắp xếp dữ liệu theo 'restaurant_id' và 'review_date'\n",
        "data_sorted = data.sort_values(by=['restaurant_id', 'review_date'])\n",
        "\n",
        "# Ngày hiện tại (giả định là ngày gần nhất trong dữ liệu)\n",
        "current_date = data['review_date'].max()\n",
        "\n",
        "# Tính khoảng cách thời gian giữa ngày đánh giá và ngày hiện tại\n",
        "data_sorted['days_since_review'] = (current_date - data_sorted['review_date']).dt.days\n",
        "\n",
        "# Tính trọng số (1 / số ngày kể từ ngày review, thêm 1 để tránh chia cho 0)\n",
        "data_sorted['weight'] = 1 / (data_sorted['days_since_review'] + 1)\n",
        "\n",
        "# Tính trung bình có trọng số của số sao cho mỗi nhà hàng\n",
        "weighted_avg_ratings = data_sorted.groupby('restaurant_id').apply(\n",
        "    lambda x: (x['rating'] * x['weight']).sum() / x['weight'].sum()\n",
        ").reset_index()\n",
        "weighted_avg_ratings.columns = ['restaurant_id', 'rating_hien_tai']\n",
        "\n",
        "#Hàm để tính xu hướng cho mỗi nhóm\n",
        "def compute_trend(group):\n",
        "    group = group.copy()\n",
        "    group['days'] = (group['review_date'] - group['review_date'].min()).dt.days\n",
        "\n",
        "    if len(group) > 1:\n",
        "        X = group[['days']].values\n",
        "        y = group['rating'].values\n",
        "\n",
        "        model = LinearRegression()\n",
        "        model.fit(X, y)\n",
        "\n",
        "        slope = model.coef_[0]\n",
        "\n",
        "        if slope > 0:\n",
        "            return 'Tốt lên'\n",
        "        elif slope < 0:\n",
        "            return 'Xấu đi'\n",
        "        else:\n",
        "            return 'Không thay đổi'\n",
        "    else:\n",
        "        return 'Không đủ dữ liệu'\n",
        "\n",
        "# Áp dụng hàm cho từng nhóm 'restaurant_id'\n",
        "trend_predictions = data_sorted.groupby('restaurant_id').apply(compute_trend).reset_index()\n",
        "trend_predictions.columns = ['restaurant_id', 'du_doan_tinh_hinh']\n"
      ],
      "metadata": {
        "id": "SAmtAQjhT_Ni"
      },
      "execution_count": null,
      "outputs": []
    },
    {
      "cell_type": "markdown",
      "source": [
        "## KẾT QUẢ"
      ],
      "metadata": {
        "id": "hPgqRuDUW8H3"
      }
    },
    {
      "cell_type": "code",
      "source": [
        "a = '{:-^50}'.format(\"Trung bình có trọng số của số sao\")\n",
        "print(a)\n",
        "print(weighted_avg_ratings.head())\n"
      ],
      "metadata": {
        "colab": {
          "base_uri": "https://localhost:8080/"
        },
        "id": "ozJZep_pUIUn",
        "outputId": "f6d74fd7-3e3b-4b99-ba39-37d0bb22b6cc"
      },
      "execution_count": null,
      "outputs": [
        {
          "output_type": "stream",
          "name": "stdout",
          "text": [
            "--------Trung bình có trọng số của số sao---------\n",
            "   restaurant_id  rating_hien_tai\n",
            "0              1         3.691384\n",
            "1              2         4.833094\n",
            "2              3         2.572994\n",
            "3              4         3.683643\n",
            "4              5         3.735897\n"
          ]
        }
      ]
    },
    {
      "cell_type": "code",
      "source": [
        "a = '{:-^40}'.format(\"Xu hướng số sao đánh giá\")\n",
        "print(a)\n",
        "print(trend_predictions.head(20))"
      ],
      "metadata": {
        "colab": {
          "base_uri": "https://localhost:8080/"
        },
        "id": "p1T5KmFNUTsW",
        "outputId": "35180a29-35e9-4264-de61-4525844fc154"
      },
      "execution_count": null,
      "outputs": [
        {
          "output_type": "stream",
          "name": "stdout",
          "text": [
            "--------Xu hướng số sao đánh giá--------\n",
            "    restaurant_id du_doan_tinh_hinh\n",
            "0               1            Xấu đi\n",
            "1               2           Tốt lên\n",
            "2               3            Xấu đi\n",
            "3               4           Tốt lên\n",
            "4               5           Tốt lên\n",
            "5               6           Tốt lên\n",
            "6               7            Xấu đi\n",
            "7               8           Tốt lên\n",
            "8               9           Tốt lên\n",
            "9              10           Tốt lên\n",
            "10             11            Xấu đi\n",
            "11             12           Tốt lên\n",
            "12             13           Tốt lên\n",
            "13             14           Tốt lên\n",
            "14             15           Tốt lên\n",
            "15             16           Tốt lên\n",
            "16             17           Tốt lên\n",
            "17             18           Tốt lên\n",
            "18             19            Xấu đi\n",
            "19             20           Tốt lên\n"
          ]
        }
      ]
    },
    {
      "cell_type": "code",
      "source": [
        "\n",
        "# Lưu mô hình đã huấn luyện hoặc dữ liệu kết quả\n",
        "trend_predictions.to_csv('/content/trend_predictions.csv', index=False)\n",
        "weighted_avg_ratings.to_csv('/content/weighted_avg_ratings.csv', index=False)\n"
      ],
      "metadata": {
        "id": "i-PUFkn4xb9O"
      },
      "execution_count": null,
      "outputs": []
    },
    {
      "cell_type": "markdown",
      "source": [
        "# Vẽ biểu đồ - Trực quan hóa kết quả"
      ],
      "metadata": {
        "id": "IuUGhvqUXBeC"
      }
    },
    {
      "cell_type": "code",
      "source": [
        "import matplotlib.pyplot as plt\n",
        "import seaborn as sns"
      ],
      "metadata": {
        "id": "nfKPoDCVVzkf"
      },
      "execution_count": null,
      "outputs": []
    },
    {
      "cell_type": "code",
      "source": [
        "# chọn các restaurant_id cụ thể\n",
        "selected_restaurants = [1, 2, 3, 4, 5, 6, 7, 8, 9, 10]\n",
        "\n",
        "# Lọc dữ liệu chỉ cho các restaurant_id đã chọn\n",
        "data_filtered = data_sorted[data_sorted['restaurant_id'].isin(selected_restaurants)]\n",
        "\n",
        "# Tính khoảng cách thời gian, trọng số và trung bình có trọng số như trước\n",
        "data_filtered['days_since_review'] = (current_date - data_filtered['review_date']).dt.days\n",
        "data_filtered['weight'] = 1 / (data_filtered['days_since_review'] + 1)\n",
        "\n",
        "# Tính trung bình có trọng số của số sao cho từng nhà hàng đã chọn\n",
        "weighted_avg_ratings = data_filtered.groupby('restaurant_id').apply(\n",
        "    lambda x: (x['rating'] * x['weight']).sum() / x['weight'].sum()\n",
        ").reset_index()\n",
        "weighted_avg_ratings.columns = ['restaurant_id', 'rating_hien_tai']\n",
        "\n",
        "# Tính xu hướng cho từng nhà hàng đã chọn\n",
        "trend_predictions = data_filtered.groupby('restaurant_id').apply(compute_trend).reset_index()\n",
        "trend_predictions.columns = ['restaurant_id', 'du_doan_tinh_hinh']\n",
        "\n",
        "# Kết hợp dữ liệu trung bình có trọng số và xu hướng\n",
        "result = pd.merge(weighted_avg_ratings, trend_predictions, on='restaurant_id')\n"
      ],
      "metadata": {
        "colab": {
          "base_uri": "https://localhost:8080/"
        },
        "id": "avB28I14VpZX",
        "outputId": "f2721fd4-70d8-4fbb-cd16-ea2b9770abf4"
      },
      "execution_count": null,
      "outputs": [
        {
          "output_type": "stream",
          "name": "stderr",
          "text": [
            "<ipython-input-10-7a0d20f1e087>:8: SettingWithCopyWarning: \n",
            "A value is trying to be set on a copy of a slice from a DataFrame.\n",
            "Try using .loc[row_indexer,col_indexer] = value instead\n",
            "\n",
            "See the caveats in the documentation: https://pandas.pydata.org/pandas-docs/stable/user_guide/indexing.html#returning-a-view-versus-a-copy\n",
            "  data_filtered['days_since_review'] = (current_date - data_filtered['review_date']).dt.days\n",
            "<ipython-input-10-7a0d20f1e087>:9: SettingWithCopyWarning: \n",
            "A value is trying to be set on a copy of a slice from a DataFrame.\n",
            "Try using .loc[row_indexer,col_indexer] = value instead\n",
            "\n",
            "See the caveats in the documentation: https://pandas.pydata.org/pandas-docs/stable/user_guide/indexing.html#returning-a-view-versus-a-copy\n",
            "  data_filtered['weight'] = 1 / (data_filtered['days_since_review'] + 1)\n"
          ]
        }
      ]
    },
    {
      "cell_type": "code",
      "source": [
        "#biểu đồ rating\n",
        "plt.figure(figsize=(12, 6))\n",
        "sns.barplot(x='restaurant_id', y='rating_hien_tai', data=result, palette='viridis')\n",
        "plt.title('Rating của nhà hàng tính đến hiện tại')\n",
        "plt.xlabel('Restaurant ID')\n",
        "plt.ylabel('Rating Hiện Tại')\n",
        "plt.xticks(rotation=45)\n",
        "plt.grid(axis='y')\n",
        "plt.show()"
      ],
      "metadata": {
        "colab": {
          "base_uri": "https://localhost:8080/",
          "height": 661
        },
        "id": "0OgaQLCrXFtX",
        "outputId": "aa433df9-13b9-4e25-95d6-239b4c7f39c7"
      },
      "execution_count": null,
      "outputs": [
        {
          "output_type": "stream",
          "name": "stderr",
          "text": [
            "<ipython-input-11-6b13e751db84>:3: FutureWarning: \n",
            "\n",
            "Passing `palette` without assigning `hue` is deprecated and will be removed in v0.14.0. Assign the `x` variable to `hue` and set `legend=False` for the same effect.\n",
            "\n",
            "  sns.barplot(x='restaurant_id', y='rating_hien_tai', data=result, palette='viridis')\n"
          ]
        },
        {
          "output_type": "display_data",
          "data": {
            "text/plain": [
              "<Figure size 1200x600 with 1 Axes>"
            ],
            "image/png": "[encoded data removed]"
          },
          "metadata": {}
        }
      ]
    },
    {
      "cell_type": "code",
      "source": [
        "# Biểu đồ dự đoán tình hình\n",
        "plt.figure(figsize=(12, 6))\n",
        "sns.barplot(x='restaurant_id', y='rating_hien_tai', hue='du_doan_tinh_hinh', data=result, palette='coolwarm')\n",
        "plt.title('Xu hướng đánh giá cho từng nhà hàng')\n",
        "plt.xlabel('Restaurant ID')\n",
        "plt.ylabel('Rating Hiện Tại')\n",
        "plt.xticks(rotation=45)\n",
        "plt.legend(title='Dự Đoán Tình Hình')\n",
        "plt.grid(axis='y')\n",
        "plt.show()\n"
      ],
      "metadata": {
        "colab": {
          "base_uri": "https://localhost:8080/",
          "height": 573
        },
        "id": "u_sHr0wwXnUz",
        "outputId": "42db4019-517a-448f-f7c2-a6bb7352dd30"
      },
      "execution_count": null,
      "outputs": [
        {
          "output_type": "display_data",
          "data": {
            "text/plain": [
              "<Figure size 1200x600 with 1 Axes>"
            ],
            "image/png": "[encoded data removed]"
          },
          "metadata": {}
        }
      ]
    },
    {
      "cell_type": "code",
      "source": [
        "import pandas as pd\n",
        "import seaborn as sns\n",
        "import matplotlib.pyplot as plt\n",
        "# Lọc dữ liệu cho tất cả các restaurant_id\n",
        "data_filtered = data_sorted\n",
        "\n",
        "# Tính khoảng cách thời gian, trọng số và trung bình có trọng số như trước\n",
        "data_filtered['days_since_review'] = (current_date - data_filtered['review_date']).dt.days\n",
        "data_filtered['weight'] = 1 / (data_filtered['days_since_review'] + 1)\n",
        "\n",
        "# Tính trung bình có trọng số của số sao cho từng nhà hàng\n",
        "weighted_avg_ratings = data_filtered.groupby('restaurant_id').apply(\n",
        "    lambda x: (x['rating'] * x['weight']).sum() / x['weight'].sum()\n",
        ").reset_index()\n",
        "weighted_avg_ratings.columns = ['restaurant_id', 'rating_hien_tai']\n",
        "\n",
        "# Tính xu hướng cho từng nhà hàng\n",
        "trend_predictions = data_filtered.groupby('restaurant_id').apply(compute_trend).reset_index()\n",
        "trend_predictions.columns = ['restaurant_id', 'du_doan_tinh_hinh']\n",
        "\n",
        "# Kết hợp dữ liệu trung bình có trọng số và xu hướng\n",
        "result = pd.merge(weighted_avg_ratings, trend_predictions, on='restaurant_id')\n",
        "\n",
        "# Thêm cột tháng cho dữ liệu\n",
        "data_filtered['month'] = data_filtered['review_date'].dt.to_period('M')\n",
        "\n",
        "# Tính trung bình theo từng tháng cho từng nhà hàng\n",
        "monthly_avg = data_filtered.groupby(['restaurant_id', 'month'])['rating'].mean().reset_index()\n",
        "monthly_avg.columns = ['restaurant_id', 'month', 'average_rating']\n",
        "\n",
        "# Tính toán sự thay đổi giữa các tháng\n",
        "monthly_avg['previous_avg'] = monthly_avg.groupby('restaurant_id')['average_rating'].shift(1)\n",
        "monthly_avg['trend'] = monthly_avg['average_rating'] - monthly_avg['previous_avg']\n",
        "\n",
        "# Phân loại xu hướng\n",
        "monthly_avg['du_doan_tinh_hinh'] = monthly_avg['trend'].apply(\n",
        "    lambda x: 'Tốt hơn' if x > 0 else ('Xấu đi' if x < 0 else 'Không thay đổi')\n",
        ")\n",
        "\n",
        "# Nhập vào ID nhà hàng từ người dùng\n",
        "restaurant_id = int(input(\"Nhập ID nhà hàng bạn muốn xem: \"))\n",
        "\n",
        "# Lọc ra dữ liệu cho nhà hàng cụ thể\n",
        "trend_result = monthly_avg[monthly_avg['restaurant_id'] == restaurant_id]\n",
        "\n",
        "# Kiểm tra nếu không có dữ liệu cho nhà hàng đó\n",
        "if trend_result.empty:\n",
        "    print(f\"Không có dữ liệu cho nhà hàng với ID {restaurant_id}.\")\n",
        "else:\n",
        "    # Vẽ biểu đồ so sánh điểm số trung bình theo thời gian\n",
        "    plt.figure(figsize=(12, 6))\n",
        "    sns.barplot(x='month', y='average_rating', hue='du_doan_tinh_hinh', data=trend_result, palette='coolwarm')\n",
        "    plt.title(f'Xu hướng đánh giá trung bình theo tháng cho nhà hàng ID {restaurant_id}')\n",
        "    plt.xlabel('Tháng')\n",
        "    plt.ylabel('Điểm số Trung bình')\n",
        "    plt.xticks(rotation=45)\n",
        "    plt.legend(title='Dự Đoán Tình Hình')\n",
        "    plt.grid(axis='y')\n",
        "    plt.show()\n"
      ],
      "metadata": {
        "colab": {
          "base_uri": "https://localhost:8080/",
          "height": 619
        },
        "id": "ZETy4DLcaVob",
        "outputId": "27bdafe3-aa07-4ca8-e0f9-dedec3f24490"
      },
      "execution_count": null,
      "outputs": [
        {
          "name": "stdout",
          "output_type": "stream",
          "text": [
            "Nhập ID nhà hàng bạn muốn xem: 1\n"
          ]
        },
        {
          "output_type": "display_data",
          "data": {
            "text/plain": [
              "<Figure size 1200x600 with 1 Axes>"
            ],
            "image/png": "[encoded data removed]"
          },
          "metadata": {}
        }
      ]
    }
  ],
  "metadata": {
    "colab": {
      "provenance": [],
      "collapsed_sections": [
        "orr9kuRlAsv2"
      ]
    },
    "kernelspec": {
      "display_name": "Python 3",
      "name": "python3"
    },
    "language_info": {
      "name": "python"
    }
  },
  "nbformat": 4,
  "nbformat_minor": 0
}